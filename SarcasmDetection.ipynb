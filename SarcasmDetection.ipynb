{
  "nbformat": 4,
  "nbformat_minor": 0,
  "metadata": {
    "colab": {
      "name": "SarcasmDetection.ipynb",
      "provenance": [],
      "authorship_tag": "ABX9TyOVJvEQdr/LLar5e8GLp5rZ",
      "include_colab_link": true
    },
    "kernelspec": {
      "name": "python3",
      "display_name": "Python 3"
    }
  },
  "cells": [
    {
      "cell_type": "markdown",
      "metadata": {
        "id": "view-in-github",
        "colab_type": "text"
      },
      "source": [
        "<a href=\"https://colab.research.google.com/github/samyon7/ML/blob/master/SarcasmDetection.ipynb\" target=\"_parent\"><img src=\"https://colab.research.google.com/assets/colab-badge.svg\" alt=\"Open In Colab\"/></a>"
      ]
    },
    {
      "cell_type": "markdown",
      "metadata": {
        "id": "LVuOT8fXv8O-"
      },
      "source": [
        "<b>SARCASM DETECTION</b><br>\n",
        "--\n",
        "AUTHOR : sammyon7"
      ]
    },
    {
      "cell_type": "code",
      "metadata": {
        "id": "kyAWhM-vvWLG"
      },
      "source": [
        "import json \n",
        "import tensorflow as tf\n",
        "\n",
        "from tensorflow.keras.preprocessing.text import Tokenizer\n",
        "from tensorflow.keras.preprocessing.sequence import pad_sequences\n",
        "from tensorflow.keras.models import Sequential\n",
        "from tensorflow.keras.layers import Dense, Embedding, GlobalAveragePooling1D"
      ],
      "execution_count": 1,
      "outputs": []
    },
    {
      "cell_type": "code",
      "metadata": {
        "id": "BSnPzGx3wGxI"
      },
      "source": [
        "vocab_size = 10000\n",
        "embedding_dimension = 16\n",
        "max_length = 100\n",
        "trunc_type = 'post'\n",
        "padding_type = 'post'\n",
        "oov_tok = '<OOV>'\n",
        "training_size = 20000"
      ],
      "execution_count": 2,
      "outputs": []
    },
    {
      "cell_type": "code",
      "metadata": {
        "id": "SHj9eR3nwNFU",
        "outputId": "d7823f42-e777-4c4a-d909-7c914e06427f",
        "colab": {
          "base_uri": "https://localhost:8080/"
        }
      },
      "source": [
        "!wget --no-check-certificate \\\n",
        "  https://storage.googleapis.com/laurencemoroney-blog.appspot.com/sarcasm.json \\\n",
        "  -O sarcasm.json"
      ],
      "execution_count": 4,
      "outputs": [
        {
          "output_type": "stream",
          "text": [
            "--2020-10-30 09:05:22--  https://storage.googleapis.com/laurencemoroney-blog.appspot.com/sarcasm.json\n",
            "Resolving storage.googleapis.com (storage.googleapis.com)... 173.194.69.128, 173.194.79.128, 108.177.119.128, ...\n",
            "Connecting to storage.googleapis.com (storage.googleapis.com)|173.194.69.128|:443... connected.\n",
            "HTTP request sent, awaiting response... 200 OK\n",
            "Length: 5643545 (5.4M) [application/json]\n",
            "Saving to: ‘sarcasm.json’\n",
            "\n",
            "sarcasm.json        100%[===================>]   5.38M  --.-KB/s    in 0.05s   \n",
            "\n",
            "2020-10-30 09:05:23 (106 MB/s) - ‘sarcasm.json’ saved [5643545/5643545]\n",
            "\n"
          ],
          "name": "stdout"
        }
      ]
    },
    {
      "cell_type": "code",
      "metadata": {
        "id": "-1RTr2s4wOpI"
      },
      "source": [
        "with open('sarcasm.json', 'r') as f: \n",
        "  datastore = json.load(f)\n",
        "\n",
        "sentences = []\n",
        "labels = []\n",
        "\n",
        "\n",
        "for item in datastore: \n",
        "  sentences.append(item['headline'])\n",
        "  labels.append(item['is_sarcastic'])\n",
        "\n",
        "import numpy as np\n",
        "labels = np.array(labels)"
      ],
      "execution_count": 7,
      "outputs": []
    },
    {
      "cell_type": "code",
      "metadata": {
        "id": "jxdIy8JUwcN4",
        "outputId": "39cfbeb6-79b9-4c92-c5c7-1c808debfb64",
        "colab": {
          "base_uri": "https://localhost:8080/"
        }
      },
      "source": [
        "training_sentences = sentences[:training_size]\n",
        "testing_sentences = sentences[training_size:]\n",
        "\n",
        "training_labels = labels[:training_size]\n",
        "testing_labels = labels[training_size:]\n",
        "\n",
        "print(len(training_labels))"
      ],
      "execution_count": 10,
      "outputs": [
        {
          "output_type": "stream",
          "text": [
            "20000\n"
          ],
          "name": "stdout"
        }
      ]
    },
    {
      "cell_type": "code",
      "metadata": {
        "id": "BRh3IqoywgX4"
      },
      "source": [
        "tokenizer = Tokenizer(num_words=vocab_size, oov_token=oov_tok)\n",
        "\n",
        "tokenizer.fit_on_texts(training_sentences)\n",
        "\n",
        "training_sequences = tokenizer.texts_to_sequences(training_sentences)\n",
        "\n",
        "training_padded = pad_sequences(training_sequences, \n",
        "                                maxlen=max_length, \n",
        "                                padding=padding_type, \n",
        "                                truncating=trunc_type)\n",
        "\n",
        "test_sequences = tokenizer.texts_to_sequences(testing_sentences)\n",
        "\n",
        "test_padded = pad_sequences(test_sequences)"
      ],
      "execution_count": 12,
      "outputs": []
    },
    {
      "cell_type": "code",
      "metadata": {
        "id": "kY6E9AE7wkqU",
        "outputId": "e1ad1dea-b74c-4aa7-a60d-2828c4a76c53",
        "colab": {
          "base_uri": "https://localhost:8080/"
        }
      },
      "source": [
        "print(training_padded.shape)\n",
        "print(test_padded.shape)"
      ],
      "execution_count": 14,
      "outputs": [
        {
          "output_type": "stream",
          "text": [
            "(20000, 100)\n",
            "(6709, 38)\n"
          ],
          "name": "stdout"
        }
      ]
    },
    {
      "cell_type": "code",
      "metadata": {
        "id": "tJskfMNswnGZ",
        "outputId": "f4642986-0ef1-434c-ef37-b2cbc6812fb2",
        "colab": {
          "base_uri": "https://localhost:8080/"
        }
      },
      "source": [
        "from keras import layers\n",
        "\n",
        "model_dense = tf.keras.Sequential([\n",
        "  layers.Embedding(vocab_size, embedding_dimension,input_length=max_length),\n",
        "  layers.Dropout(0.2),\n",
        "  layers.GlobalAveragePooling1D(),\n",
        "  layers.Dense(24, activation='relu'),\n",
        "  layers.Dropout(0.2),\n",
        "  layers.Dense(1,activation='sigmoid')])\n",
        "\n",
        "model_dense.summary()"
      ],
      "execution_count": 24,
      "outputs": [
        {
          "output_type": "stream",
          "text": [
            "Model: \"sequential_1\"\n",
            "_________________________________________________________________\n",
            "Layer (type)                 Output Shape              Param #   \n",
            "=================================================================\n",
            "embedding_1 (Embedding)      (None, 100, 16)           160000    \n",
            "_________________________________________________________________\n",
            "dropout (Dropout)            (None, 100, 16)           0         \n",
            "_________________________________________________________________\n",
            "global_average_pooling1d_1 ( (None, 16)                0         \n",
            "_________________________________________________________________\n",
            "dense_2 (Dense)              (None, 24)                408       \n",
            "_________________________________________________________________\n",
            "dropout_1 (Dropout)          (None, 24)                0         \n",
            "_________________________________________________________________\n",
            "dense_3 (Dense)              (None, 1)                 25        \n",
            "=================================================================\n",
            "Total params: 160,433\n",
            "Trainable params: 160,433\n",
            "Non-trainable params: 0\n",
            "_________________________________________________________________\n"
          ],
          "name": "stdout"
        }
      ]
    },
    {
      "cell_type": "code",
      "metadata": {
        "id": "EWMHnB87wrDF"
      },
      "source": [
        "model.compile(loss='binary_crossentropy', optimizer='adam', metrics=['acc'])"
      ],
      "execution_count": 25,
      "outputs": []
    },
    {
      "cell_type": "code",
      "metadata": {
        "id": "StXfiLF4wtYu"
      },
      "source": [
        "import datetime\n",
        "\n",
        "!rm -rf ./logs/ "
      ],
      "execution_count": 26,
      "outputs": []
    },
    {
      "cell_type": "code",
      "metadata": {
        "id": "VcTEdtDEwyjr",
        "outputId": "eb62ffda-1937-45e3-9bbf-a1b1ad387a8a",
        "colab": {
          "base_uri": "https://localhost:8080/"
        }
      },
      "source": [
        "num_epochs=30\n",
        "\n",
        "history = model.fit(training_padded, \n",
        "          training_labels, \n",
        "          epochs = num_epochs, \n",
        "          validation_data=(test_padded, testing_labels) \n",
        "          )"
      ],
      "execution_count": 28,
      "outputs": [
        {
          "output_type": "stream",
          "text": [
            "Epoch 1/30\n",
            "625/625 [==============================] - 2s 3ms/step - loss: 0.0264 - acc: 0.9924 - val_loss: 1.9708 - val_acc: 0.8153\n",
            "Epoch 2/30\n",
            "625/625 [==============================] - 2s 3ms/step - loss: 0.0245 - acc: 0.9936 - val_loss: 2.0260 - val_acc: 0.8125\n",
            "Epoch 3/30\n",
            "625/625 [==============================] - 2s 3ms/step - loss: 0.0232 - acc: 0.9933 - val_loss: 2.1242 - val_acc: 0.8119\n",
            "Epoch 4/30\n",
            "625/625 [==============================] - 2s 3ms/step - loss: 0.0213 - acc: 0.9937 - val_loss: 2.2133 - val_acc: 0.8098\n",
            "Epoch 5/30\n",
            "625/625 [==============================] - 2s 3ms/step - loss: 0.0200 - acc: 0.9948 - val_loss: 2.2796 - val_acc: 0.8098\n",
            "Epoch 6/30\n",
            "625/625 [==============================] - 2s 3ms/step - loss: 0.0198 - acc: 0.9948 - val_loss: 2.3972 - val_acc: 0.8089\n",
            "Epoch 7/30\n",
            "625/625 [==============================] - 2s 3ms/step - loss: 0.0178 - acc: 0.9948 - val_loss: 2.4556 - val_acc: 0.8085\n",
            "Epoch 8/30\n",
            "625/625 [==============================] - 2s 3ms/step - loss: 0.0177 - acc: 0.9948 - val_loss: 2.5541 - val_acc: 0.8089\n",
            "Epoch 9/30\n",
            "625/625 [==============================] - 2s 3ms/step - loss: 0.0159 - acc: 0.9959 - val_loss: 2.5635 - val_acc: 0.8067\n",
            "Epoch 10/30\n",
            "625/625 [==============================] - 2s 3ms/step - loss: 0.0144 - acc: 0.9957 - val_loss: 2.6795 - val_acc: 0.8052\n",
            "Epoch 11/30\n",
            "625/625 [==============================] - 2s 4ms/step - loss: 0.0133 - acc: 0.9962 - val_loss: 2.7678 - val_acc: 0.8047\n",
            "Epoch 12/30\n",
            "625/625 [==============================] - 2s 3ms/step - loss: 0.0122 - acc: 0.9969 - val_loss: 2.8302 - val_acc: 0.8037\n",
            "Epoch 13/30\n",
            "625/625 [==============================] - 2s 3ms/step - loss: 0.0134 - acc: 0.9963 - val_loss: 2.9687 - val_acc: 0.8044\n",
            "Epoch 14/30\n",
            "625/625 [==============================] - 2s 3ms/step - loss: 0.0095 - acc: 0.9977 - val_loss: 2.9959 - val_acc: 0.8044\n",
            "Epoch 15/30\n",
            "625/625 [==============================] - 2s 3ms/step - loss: 0.0107 - acc: 0.9967 - val_loss: 3.0300 - val_acc: 0.8035\n",
            "Epoch 16/30\n",
            "625/625 [==============================] - 2s 3ms/step - loss: 0.0094 - acc: 0.9976 - val_loss: 3.1585 - val_acc: 0.8028\n",
            "Epoch 17/30\n",
            "625/625 [==============================] - 2s 3ms/step - loss: 0.0082 - acc: 0.9979 - val_loss: 3.2798 - val_acc: 0.8025\n",
            "Epoch 18/30\n",
            "625/625 [==============================] - 2s 3ms/step - loss: 0.0079 - acc: 0.9980 - val_loss: 3.3353 - val_acc: 0.8024\n",
            "Epoch 19/30\n",
            "625/625 [==============================] - 2s 3ms/step - loss: 0.0072 - acc: 0.9984 - val_loss: 3.5364 - val_acc: 0.8021\n",
            "Epoch 20/30\n",
            "625/625 [==============================] - 2s 3ms/step - loss: 0.0076 - acc: 0.9981 - val_loss: 3.5806 - val_acc: 0.8018\n",
            "Epoch 21/30\n",
            "625/625 [==============================] - 2s 3ms/step - loss: 0.0087 - acc: 0.9976 - val_loss: 3.5471 - val_acc: 0.8013\n",
            "Epoch 22/30\n",
            "625/625 [==============================] - 2s 3ms/step - loss: 0.0086 - acc: 0.9971 - val_loss: 3.6573 - val_acc: 0.8015\n",
            "Epoch 23/30\n",
            "625/625 [==============================] - 2s 3ms/step - loss: 0.0063 - acc: 0.9983 - val_loss: 3.7135 - val_acc: 0.8015\n",
            "Epoch 24/30\n",
            "625/625 [==============================] - 2s 3ms/step - loss: 0.0056 - acc: 0.9987 - val_loss: 3.7014 - val_acc: 0.7991\n",
            "Epoch 25/30\n",
            "625/625 [==============================] - 2s 3ms/step - loss: 0.0066 - acc: 0.9980 - val_loss: 3.7670 - val_acc: 0.8016\n",
            "Epoch 26/30\n",
            "625/625 [==============================] - 2s 3ms/step - loss: 0.0059 - acc: 0.9980 - val_loss: 4.1529 - val_acc: 0.8006\n",
            "Epoch 27/30\n",
            "625/625 [==============================] - 2s 3ms/step - loss: 0.0060 - acc: 0.9985 - val_loss: 3.9237 - val_acc: 0.7997\n",
            "Epoch 28/30\n",
            "625/625 [==============================] - 2s 3ms/step - loss: 0.0061 - acc: 0.9981 - val_loss: 4.1001 - val_acc: 0.8006\n",
            "Epoch 29/30\n",
            "625/625 [==============================] - 2s 3ms/step - loss: 0.0055 - acc: 0.9984 - val_loss: 4.1306 - val_acc: 0.7988\n",
            "Epoch 30/30\n",
            "625/625 [==============================] - 2s 3ms/step - loss: 0.0060 - acc: 0.9982 - val_loss: 4.0789 - val_acc: 0.7992\n"
          ],
          "name": "stdout"
        }
      ]
    },
    {
      "cell_type": "code",
      "metadata": {
        "id": "_D5K4IuAw6gr",
        "outputId": "3f7c11bb-b6ec-4335-bc2b-cf05ed995400",
        "colab": {
          "base_uri": "https://localhost:8080/"
        }
      },
      "source": [
        "# Print the accuracy!\n",
        "_, acc = model.evaluate(test_padded, testing_labels, verbose=0)\n",
        "print('Accuracry: {}'.format(acc * 100.0))"
      ],
      "execution_count": 29,
      "outputs": [
        {
          "output_type": "stream",
          "text": [
            "Accuracry: 79.92249131202698\n"
          ],
          "name": "stdout"
        }
      ]
    },
    {
      "cell_type": "code",
      "metadata": {
        "id": "mWbhyoJ6xNyu",
        "outputId": "31ec21bd-6055-469b-b685-f079ac947a26",
        "colab": {
          "base_uri": "https://localhost:8080/",
          "height": 295
        }
      },
      "source": [
        "from matplotlib import pyplot as plt\n",
        "\n",
        "plt.plot(history.history['acc'])\n",
        "plt.plot(history.history['val_acc'])\n",
        "plt.title('model accuracy')\n",
        "plt.ylabel('accuracy')\n",
        "plt.xlabel('epoch')\n",
        "plt.legend(['train', 'val'], loc='upper left')\n",
        "plt.show()"
      ],
      "execution_count": 30,
      "outputs": [
        {
          "output_type": "display_data",
          "data": {
            "image/png": "[encoded data removed]",
            "text/plain": [
              "<Figure size 432x288 with 1 Axes>"
            ]
          },
          "metadata": {
            "tags": [],
            "needs_background": "light"
          }
        }
      ]
    },
    {
      "cell_type": "code",
      "metadata": {
        "id": "us2zfsQ_xQ_p",
        "outputId": "62964520-bf70-4f4b-82de-7955f136cbe2",
        "colab": {
          "base_uri": "https://localhost:8080/",
          "height": 295
        }
      },
      "source": [
        "plt.plot(history.history['loss'])\n",
        "plt.plot(history.history['val_loss'])\n",
        "plt.title('model loss')\n",
        "plt.ylabel('loss')\n",
        "plt.xlabel('epoch')\n",
        "plt.legend(['train', 'val'], loc='upper left')\n",
        "plt.show()"
      ],
      "execution_count": 31,
      "outputs": [
        {
          "output_type": "display_data",
          "data": {
            "image/png": "[encoded data removed]",
            "text/plain": [
              "<Figure size 432x288 with 1 Axes>"
            ]
          },
          "metadata": {
            "tags": [],
            "needs_background": "light"
          }
        }
      ]
    },
    {
      "cell_type": "code",
      "metadata": {
        "id": "78ZrMBwwx8c1",
        "outputId": "e84f7af3-b5a2-4592-b477-6758e23c00f1",
        "colab": {
          "base_uri": "https://localhost:8080/"
        }
      },
      "source": [
        "word=str(input(\"Insert the sentences : \"))\n",
        "test_sen = [word]\n",
        "\n",
        "test_sen_sequences = tokenizer.texts_to_sequences(test_sen)\n",
        "\n",
        "padded_test_sen_sequences = pad_sequences(test_sen_sequences, \n",
        "                                          maxlen=max_length, \n",
        "                                          padding=padding_type, \n",
        "                                          truncating=trunc_type)\n",
        "\n",
        "print(model.predict(padded_test_sen_sequences)) # Your words will become even more sarcastic the closer to 1"
      ],
      "execution_count": 41,
      "outputs": [
        {
          "output_type": "stream",
          "text": [
            "Insert the sentences : mom starting to fear son's web series closest thing she will have to grandchild\n",
            "[[1.]]\n"
          ],
          "name": "stdout"
        }
      ]
    }
  ]
}